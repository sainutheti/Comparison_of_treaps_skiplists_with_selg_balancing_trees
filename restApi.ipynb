{
  "nbformat": 4,
  "nbformat_minor": 0,
  "metadata": {
    "colab": {
      "provenance": [],
      "authorship_tag": "ABX9TyPgMc47EFOmHYvNyVEgY7iN",
      "include_colab_link": true
    },
    "kernelspec": {
      "name": "python3",
      "display_name": "Python 3"
    },
    "language_info": {
      "name": "python"
    }
  },
  "cells": [
    {
      "cell_type": "markdown",
      "metadata": {
        "id": "view-in-github",
        "colab_type": "text"
      },
      "source": [
        "<a href=\"https://colab.research.google.com/github/sainutheti/Comparison_of_treaps_skiplists_with_selg_balancing_trees/blob/main/restApi.ipynb\" target=\"_parent\"><img src=\"https://colab.research.google.com/assets/colab-badge.svg\" alt=\"Open In Colab\"/></a>"
      ]
    },
    {
      "cell_type": "code",
      "source": [
        "import requests\n",
        "from datetime import datetime\n",
        "\n",
        "class WeatherForecast:\n",
        "    def __init__(self, api_key):\n",
        "        self.api_key = api_key\n",
        "        self.base_url = \"https://api.openweathermap.org/data/2.5/\"\n",
        "\n",
        "    def get_weather_info(self, city_name):\n",
        "        url = f\"{self.base_url}weather?appid={self.api_key}&q={city_name}\"\n",
        "        response = requests.get(url)\n",
        "        if response.ok:\n",
        "            return response.json()\n",
        "        else:\n",
        "            print(\"Error: Could not fetch current weather data.\")\n",
        "            return None\n",
        "\n",
        "    def get_forecast_info(self, city_name):\n",
        "        url = f\"{self.base_url}forecast?appid={self.api_key}&q={city_name}\"\n",
        "        response = requests.get(url)\n",
        "        if response.ok:\n",
        "            return response.json()\n",
        "        else:\n",
        "            print(\"Error: Could not fetch forecast data.\")\n",
        "            return None\n",
        "\n",
        "    def is_it_raining_now(self, city_name):\n",
        "        weather_data = self.get_weather_info(city_name)\n",
        "        if weather_data and \"rain\" in weather_data.get('weather', [{}])[0]:\n",
        "            print(f\"It is currently raining in {city_name}.\")\n",
        "        else:\n",
        "            print(f\"It is not raining in {city_name}.\")\n",
        "\n",
        "    def will_it_rain_on(self, city_name, date):\n",
        "        forecast_data = self.get_forecast_info(city_name)\n",
        "        if forecast_data:\n",
        "            rain_on_date = any(\n",
        "                item for item in forecast_data['list']\n",
        "                if date in item['dt_txt'] and 'rain' in item['weather'][0]\n",
        "            )\n",
        "            if rain_on_date:\n",
        "                print(f\"It will be raining in {city_name} on {date}.\")\n",
        "            else:\n",
        "                print(f\"It will not rain in {city_name} on {date}.\")\n",
        "\n",
        "api_key = \"23b572abd99f30e7b01c7aae078e1494\"\n",
        "weather_forecast = WeatherForecast(api_key)\n",
        "city_name = input(\"Enter city name: \")\n",
        "weather_forecast.is_it_raining_now(city_name)\n",
        "forecast_date_input = input(\"Enter the forecast date and time (YYYY-MM-DD HH:MM): \")\n",
        "\n",
        "try:\n",
        "    forecast_date = datetime.strptime(forecast_date_input, '%Y-%m-%d %H:%M').strftime('%Y-%m-%d %H:%M:%S')\n",
        "    weather_forecast.will_it_rain_on(city_name, forecast_date)\n",
        "except ValueError:\n",
        "    print(\"Invalid date format. Please use YYYY-MM-DD HH:MM format.\")\n"
      ],
      "metadata": {
        "colab": {
          "base_uri": "https://localhost:8080/"
        },
        "id": "gAYVyUjJnju9",
        "outputId": "8b6fed76-7718-4353-f9a8-f94f1b549822"
      },
      "execution_count": 1,
      "outputs": [
        {
          "output_type": "stream",
          "name": "stdout",
          "text": [
            "Enter city name: Portland\n",
            "It is not raining in Portland.\n",
            "Enter the forecast date and time (YYYY-MM-DD HH:MM): 2024-04-13 10:00\n",
            "It will not rain in Portland on 2024-04-13 10:00:00.\n"
          ]
        }
      ]
    }
  ]
}